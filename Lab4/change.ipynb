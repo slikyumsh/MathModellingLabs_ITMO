{
 "cells": [
  {
   "cell_type": "code",
   "execution_count": 9,
   "metadata": {},
   "outputs": [],
   "source": [
    "import numpy as np\n",
    "import cv2\n",
    "import matplotlib.pyplot as plt"
   ]
  },
  {
   "cell_type": "code",
   "execution_count": 10,
   "metadata": {},
   "outputs": [],
   "source": [
    "dt = 0.002\n",
    "dz = 0.00004 / 5.\n",
    "t = 1.\n",
    "z = 0.04 / 5.\n",
    "Nt = t / dt\n",
    "Nz = 2 * z / dz\n",
    "c = 3. * 10** (8) "
   ]
  },
  {
   "cell_type": "code",
   "execution_count": 11,
   "metadata": {},
   "outputs": [
    {
     "name": "stdout",
     "output_type": "stream",
     "text": [
      "4.353821341267787 4.865877335533778\n"
     ]
    }
   ],
   "source": [
    "def eval_b1():\n",
    "    B1 = 0.696163\n",
    "    w1 = (2. * np.pi * c)/(0.0684043*10**(-6)) \n",
    "    w = (2. * np.pi * c)/(10**(-6))\n",
    "\n",
    "    beta1 = (B1 * w**2 * w1**2)/(c* (-w**2 + w1**2)**2 * np.sqrt(1. + (B1 * w1**2)/(-w**2 + w1**2))) + np.sqrt(1. + (B1 * w1**2)/(-w**2 + w1**2))/c\n",
    "    return beta1\n",
    "\n",
    "def eval_b2():\n",
    "    B1 = 0.696163\n",
    "    w1 = (2. * np.pi * c)/(0.0684043*10**(-6)) \n",
    "    w = (2. * np.pi * c)/(10**(-6))\n",
    "    B2 = 0.4079426\n",
    "    w2 = (2 * np.pi * c)/(0.1162414*10**(-6))\n",
    "    beta2 = (w * ((2 * B1 * w * w1**2)/(-w**2 + w1**2)**2 + (2 * B2 * w * w2 **2)/(-w**2 + w2**2)**2))/(2 * c * np.sqrt(1 + (B1 * w1**2)/(-w**2 + w1**2) + (B2 * w2**2)/(-w**2 + w2**2))) + np.sqrt(1 + (B1* w1** 2)/(-w**2 + w1**2) + (B2 * w2**2)/(-w**2 + w2**2))/c\n",
    "    return beta2\n",
    "\n",
    "beta1 = eval_b1()\n",
    "beta2 = eval_b2()\n",
    "beta1 = beta1 * 10 ** 9\n",
    "beta2 = beta2 * 10 ** 9\n",
    "print(beta1, beta2)\n"
   ]
  },
  {
   "cell_type": "code",
   "execution_count": 12,
   "metadata": {},
   "outputs": [],
   "source": [
    "T0=0.05\n",
    "def impulse1(t):\n",
    "    return  np.e ** (-1. * t ** 2 / (2. * T0 ** 2))"
   ]
  },
  {
   "cell_type": "code",
   "execution_count": 13,
   "metadata": {},
   "outputs": [],
   "source": [
    "t_array = np.arange(-t/2., t/2., dt)\n",
    "z_array = np.arange(0, z, dz)\n",
    "\n",
    "q = np.zeros((len(z_array), len(t_array)), dtype=complex)\n",
    "\n",
    "first_layer = []\n",
    "for t_i in t_array:\n",
    "    res = impulse1(t_i)\n",
    "    first_layer.append(res)\n",
    "q[0] = first_layer"
   ]
  },
  {
   "cell_type": "code",
   "execution_count": 14,
   "metadata": {},
   "outputs": [],
   "source": [
    "beta2 = 4.86\n",
    "gamma = 10."
   ]
  },
  {
   "cell_type": "code",
   "execution_count": 15,
   "metadata": {},
   "outputs": [],
   "source": [
    "lamda = dz * beta2 / (2.* dt ** 2 )\n",
    "ln = len(t_array)\n",
    "A = np.zeros((ln, ln), dtype=complex)\n",
    "for i in range(0, ln):\n",
    "    A[i][i] = lamda + 1j\n",
    "\n",
    "for i in range(0, ln):\n",
    "    A[i][((ln + i - 1)) % ln] = - lamda / 2.\n",
    "    A[i][((ln + i + 1)) % ln] = - lamda / 2."
   ]
  },
  {
   "cell_type": "code",
   "execution_count": 16,
   "metadata": {},
   "outputs": [
    {
     "name": "stdout",
     "output_type": "stream",
     "text": [
      "0\n",
      "1\n",
      "2\n",
      "3\n",
      "4\n",
      "5\n",
      "6\n",
      "7\n",
      "8\n",
      "9\n",
      "10\n",
      "11\n",
      "12\n",
      "13\n",
      "14\n",
      "15\n",
      "16\n",
      "17\n",
      "18\n",
      "19\n",
      "20\n",
      "21\n",
      "22\n",
      "23\n",
      "24\n",
      "25\n",
      "26\n",
      "27\n",
      "28\n",
      "29\n",
      "30\n",
      "31\n",
      "32\n",
      "33\n",
      "34\n",
      "35\n",
      "36\n",
      "37\n",
      "38\n",
      "39\n",
      "40\n",
      "41\n",
      "42\n",
      "43\n",
      "44\n",
      "45\n",
      "46\n",
      "47\n",
      "48\n",
      "49\n",
      "50\n",
      "51\n",
      "52\n",
      "53\n",
      "54\n",
      "55\n",
      "56\n",
      "57\n",
      "58\n",
      "59\n",
      "60\n",
      "61\n",
      "62\n",
      "63\n",
      "64\n",
      "65\n",
      "66\n",
      "67\n",
      "68\n",
      "69\n",
      "70\n",
      "71\n",
      "72\n",
      "73\n",
      "74\n",
      "75\n",
      "76\n",
      "77\n",
      "78\n",
      "79\n",
      "80\n",
      "81\n",
      "82\n",
      "83\n",
      "84\n",
      "85\n",
      "86\n",
      "87\n",
      "88\n",
      "89\n",
      "90\n",
      "91\n",
      "92\n",
      "93\n",
      "94\n",
      "95\n",
      "96\n",
      "97\n",
      "98\n",
      "99\n",
      "100\n"
     ]
    }
   ],
   "source": [
    "inverse_matrix = np.linalg.inv(A)\n",
    "\n",
    "for i in range(0, 101):\n",
    "    F = np.zeros((len(t_array), ), dtype=complex)\n",
    "    for k in range(0, 20):\n",
    "        for j in range(0, len(t_array)):\n",
    "\n",
    "            # r = q[m+1][j]\n",
    "            if k != 0:\n",
    "                r = q[i + 1][j]\n",
    "            else :\n",
    "                r = q[i][j]\n",
    "                \n",
    "            if (j == 0):\n",
    "                F[j] = lamda/2 * (q[i][j + 1] + 0) + (1j - lamda) * q[i][j] + beta2 * 500. * dz * ((abs(r) ** 2) * r + (abs(q[i][j] ** 2) * q[i][j]))\n",
    "                                                                                    \n",
    "            if (j == len(t_array) - 1):\n",
    "                F[j] = lamda/2 * (0 + q[i][j - 1]) + (1j - lamda) * q[i][j] + beta2* 500. * dz * ((abs(r) ** 2) * r + (abs(q[i][j] ** 2) * q[i][j]))\n",
    "\n",
    "            if j > 0  and j < len(t_array) - 1:\n",
    "                F[j] = lamda/2 * (q[i][j + 1] + q[i][j - 1]) + (1j - lamda) * q[i][j] + beta2 * 500. * dz * ((abs(r) ** 2) * r + (abs(q[i][j] ** 2) * q[i][j]))\n",
    "\n",
    "        \n",
    "            new_layer = inverse_matrix @ F\n",
    "            q[i + 1] = new_layer    \n",
    "\n",
    "    print(i)"
   ]
  },
  {
   "cell_type": "code",
   "execution_count": 17,
   "metadata": {},
   "outputs": [
    {
     "name": "stderr",
     "output_type": "stream",
     "text": [
      "No artists with labels found to put in legend.  Note that artists whose label start with an underscore are ignored when legend() is called with no argument.\n"
     ]
    },
    {
     "data": {
      "image/png": "[encoded data removed]",
      "text/plain": [
       "<Figure size 640x480 with 1 Axes>"
      ]
     },
     "metadata": {},
     "output_type": "display_data"
    }
   ],
   "source": [
    "graph1 = []\n",
    "for q_i in q[0]:\n",
    "    graph1.append(abs(q_i)**2)\n",
    "\n",
    "graph2 = []\n",
    "for q_i in q[100]:\n",
    "    graph2.append(abs(q_i) ** 2)  \n",
    "\n",
    "\n",
    "plt.plot(t_array, graph1)\n",
    "plt.plot(t_array, graph2)\n",
    "\n",
    "#plt.scatter(t, impulse3)\n",
    "plt.xlabel(\"Time\")\n",
    "plt.ylabel('Impulse')\n",
    "plt.legend()\n",
    "plt.show()"
   ]
  },
  {
   "cell_type": "code",
   "execution_count": 18,
   "metadata": {},
   "outputs": [],
   "source": [
    "t_array = np.arange(-t/2., t/2., dt)\n",
    "z_array = np.arange(0, z, dz)\n",
    "\n",
    "q = np.zeros((len(z_array), len(t_array)), dtype=complex)\n",
    "\n",
    "first_layer = []\n",
    "for t_i in t_array:\n",
    "    res = impulse1(t_i)\n",
    "    first_layer.append(res)\n",
    "q[0] = first_layer\n",
    "\n",
    "lamda = dz  * beta2 / ((2.* dt ** 2))\n",
    "ln = len(t_array)\n",
    "A = np.zeros((ln, ln), dtype=complex)\n",
    "for i in range(0, ln):\n",
    "    A[i][i] = lamda + 1j\n",
    "\n",
    "for i in range(0, ln):\n",
    "    A[i][((ln + i - 1)) % ln] = - lamda / 2.\n",
    "    A[i][((ln + i + 1)) % ln] = - lamda / 2."
   ]
  },
  {
   "cell_type": "code",
   "execution_count": 19,
   "metadata": {},
   "outputs": [
    {
     "name": "stdout",
     "output_type": "stream",
     "text": [
      "0\n",
      "1\n",
      "2\n",
      "3\n",
      "4\n",
      "5\n",
      "6\n",
      "7\n",
      "8\n",
      "9\n",
      "10\n",
      "11\n",
      "12\n",
      "13\n",
      "14\n",
      "15\n",
      "16\n",
      "17\n",
      "18\n",
      "19\n",
      "20\n",
      "21\n",
      "22\n",
      "23\n",
      "24\n",
      "25\n",
      "26\n",
      "27\n",
      "28\n",
      "29\n",
      "30\n",
      "31\n",
      "32\n",
      "33\n",
      "34\n",
      "35\n",
      "36\n",
      "37\n",
      "38\n",
      "39\n",
      "40\n",
      "41\n",
      "42\n",
      "43\n",
      "44\n",
      "45\n",
      "46\n",
      "47\n",
      "48\n",
      "49\n",
      "50\n",
      "51\n",
      "52\n",
      "53\n",
      "54\n",
      "55\n",
      "56\n",
      "57\n",
      "58\n",
      "59\n",
      "60\n",
      "61\n",
      "62\n",
      "63\n",
      "64\n",
      "65\n",
      "66\n",
      "67\n",
      "68\n",
      "69\n",
      "70\n",
      "71\n",
      "72\n",
      "73\n",
      "74\n",
      "75\n",
      "76\n",
      "77\n",
      "78\n",
      "79\n",
      "80\n",
      "81\n",
      "82\n",
      "83\n",
      "84\n",
      "85\n",
      "86\n",
      "87\n",
      "88\n",
      "89\n",
      "90\n",
      "91\n",
      "92\n",
      "93\n",
      "94\n",
      "95\n",
      "96\n",
      "97\n",
      "98\n",
      "99\n",
      "100\n"
     ]
    }
   ],
   "source": [
    "inverse_matrix = np.linalg.inv(A)\n",
    "\n",
    "for i in range(0, 101):\n",
    "    F = np.zeros((len(t_array), ), dtype=complex)\n",
    "    for k in range(0, 20):\n",
    "        for j in range(0, len(t_array)):\n",
    "\n",
    "            if k != 0:\n",
    "                r = q[i + 1][j]\n",
    "            else :\n",
    "                r = q[i][j]\n",
    "                \n",
    "            if (j == 0):\n",
    "                F[j] = lamda/2 * (q[i][j + 1] + 0) + (1j - lamda) * q[i][j]     \n",
    "            if (j == len(t_array) - 1):\n",
    "                F[j] = lamda/2 * (0 + q[i][j - 1]) + (1j - lamda) * q[i][j] \n",
    "            if j > 0  and j < len(t_array) - 1:\n",
    "                F[j] = lamda/2 * (q[i][j + 1] + q[i][j - 1]) + (1j - lamda) * q[i][j] \n",
    "            new_layer = inverse_matrix @ F\n",
    "            q[i + 1] = new_layer    \n",
    "\n",
    "    print(i)"
   ]
  },
  {
   "cell_type": "code",
   "execution_count": 20,
   "metadata": {},
   "outputs": [
    {
     "name": "stderr",
     "output_type": "stream",
     "text": [
      "No artists with labels found to put in legend.  Note that artists whose label start with an underscore are ignored when legend() is called with no argument.\n"
     ]
    },
    {
     "data": {
      "image/png": "[encoded data removed]",
      "text/plain": [
       "<Figure size 640x480 with 1 Axes>"
      ]
     },
     "metadata": {},
     "output_type": "display_data"
    }
   ],
   "source": [
    "graph1 = []\n",
    "for q_i in q[0]:\n",
    "    graph1.append(abs(q_i)**2)\n",
    "\n",
    "graph2 = []\n",
    "for q_i in q[70]:\n",
    "    graph2.append(abs(q_i) ** 2)  \n",
    "\n",
    "\n",
    "plt.plot(t_array, graph1)\n",
    "plt.plot(t_array, graph2)\n",
    "\n",
    "#plt.scatter(t, impulse3)\n",
    "plt.xlabel(\"Time\")\n",
    "plt.ylabel('Impulse')\n",
    "plt.legend()\n",
    "plt.show()"
   ]
  },
  {
   "cell_type": "code",
   "execution_count": 21,
   "metadata": {},
   "outputs": [
    {
     "name": "stdout",
     "output_type": "stream",
     "text": [
      "0.0005600000000000001 0.00051440329218107\n"
     ]
    }
   ],
   "source": [
    "print(70 * dz, T0**2 / beta2)"
   ]
  },
  {
   "cell_type": "code",
   "execution_count": 22,
   "metadata": {},
   "outputs": [
    {
     "name": "stderr",
     "output_type": "stream",
     "text": [
      "No artists with labels found to put in legend.  Note that artists whose label start with an underscore are ignored when legend() is called with no argument.\n"
     ]
    },
    {
     "data": {
      "image/png": "[encoded data removed]",
      "text/plain": [
       "<Figure size 640x480 with 1 Axes>"
      ]
     },
     "metadata": {},
     "output_type": "display_data"
    }
   ],
   "source": [
    "graph1 = []\n",
    "for q_i in q[0]:\n",
    "    graph1.append(abs(q_i)**2)\n",
    "\n",
    "plt.plot(t_array, graph1)\n",
    "\n",
    "#plt.scatter(t, impulse3)\n",
    "plt.xlabel(\"Time\")\n",
    "plt.ylabel('Impulse')\n",
    "plt.legend()\n",
    "plt.show()"
   ]
  },
  {
   "cell_type": "code",
   "execution_count": 73,
   "metadata": {},
   "outputs": [
    {
     "name": "stderr",
     "output_type": "stream",
     "text": [
      "No artists with labels found to put in legend.  Note that artists whose label start with an underscore are ignored when legend() is called with no argument.\n"
     ]
    },
    {
     "data": {
      "image/png": "[encoded data removed]",
      "text/plain": [
       "<Figure size 640x480 with 1 Axes>"
      ]
     },
     "metadata": {},
     "output_type": "display_data"
    }
   ],
   "source": [
    "dt = 0.0005/14\n",
    "dz = 0.00004/5\n",
    "t=1.\n",
    "z = 0.04\n",
    "Nt = t / dt\n",
    "Nz = 2 * z / dz\n",
    "c = 3. * 10** (8) \n",
    "\n",
    "z_array = np.arange(0., z, dz)\n",
    "t_array = np.arange(-t/2., t/2., dt)\n",
    "q = np.zeros((len(z_array), len(t_array)), dtype=float)\n",
    "\n",
    "first_layer = []\n",
    "for t_i in t_array:\n",
    "    res = impulse1(t_i)\n",
    "    first_layer.append(res)\n",
    "q[0] = first_layer\n",
    "\n",
    "graph = []\n",
    "for q_i in q[0]:\n",
    "    graph.append(abs(q_i))\n",
    "\n",
    "plt.plot(t_array, graph)\n",
    "plt.xlabel(\"Time\")\n",
    "plt.ylabel('Impulse')\n",
    "plt.legend()\n",
    "plt.show()"
   ]
  },
  {
   "cell_type": "code",
   "execution_count": 74,
   "metadata": {},
   "outputs": [],
   "source": [
    "A = []\n",
    "A.append(first_layer)\n",
    "\n",
    "for i in range(1, len(z_array)):\n",
    "    new_layer = []\n",
    "    for j in range(0, len(t_array)):\n",
    "        if j != 0:\n",
    "            cur_val = A[i - 1][j] - beta1  * dz / dt * (A[i - 1][j] - A[i - 1][j - 1])\n",
    "            \n",
    "        else :\n",
    "             cur_val = 0\n",
    "             \n",
    "        new_layer.append(cur_val)\n",
    "    A.append(new_layer)\n"
   ]
  },
  {
   "cell_type": "code",
   "execution_count": 75,
   "metadata": {},
   "outputs": [
    {
     "name": "stderr",
     "output_type": "stream",
     "text": [
      "No artists with labels found to put in legend.  Note that artists whose label start with an underscore are ignored when legend() is called with no argument.\n"
     ]
    },
    {
     "data": {
      "image/png": "[encoded data removed]",
      "text/plain": [
       "<Figure size 640x480 with 1 Axes>"
      ]
     },
     "metadata": {},
     "output_type": "display_data"
    }
   ],
   "source": [
    "impulse_plot1 = []\n",
    "impulse_plot2 = []\n",
    "ind1 = 0\n",
    "ind2 = 999\n",
    "\n",
    "for i in range(0, len(z_array)):\n",
    "    impulse_plot1.append(A)\n",
    "\n",
    "def draw_three_impulses(t_array, impulse1, impulse2):\n",
    "    plt.plot(t_array, impulse1)\n",
    "    plt.plot(t_array, impulse2)\n",
    "    plt.xlabel(\"Time\")\n",
    "    plt.ylabel('Impulse')\n",
    "    plt.legend()\n",
    "    plt.show()\n",
    "\n",
    "draw_three_impulses(t_array, A[ind1], A[ind2])\n"
   ]
  },
  {
   "cell_type": "code",
   "execution_count": 76,
   "metadata": {},
   "outputs": [
    {
     "name": "stdout",
     "output_type": "stream",
     "text": [
      "0.2239999999998755 0.2296832877641255\n"
     ]
    }
   ],
   "source": [
    "max1 = np.array(A[ind1]).max()\n",
    "max2 = np.array(A[ind2]).max()\n",
    "t_max1 = 0\n",
    "t_max2 = 0\n",
    "rem_ind1 = 0\n",
    "rem_ind2 = 0\n",
    "for i in range(0, len(t_array)):\n",
    "    if A[ind1][i] == max1:\n",
    "        t_max1 = t_array[i]\n",
    "        rem_ind1 = i\n",
    "    if A[ind2][i] == max2:\n",
    "        t_max2 = t_array[i]\n",
    "        rem_ind2 = i\n",
    "\n",
    "print((rem_ind2 - rem_ind1) * dz / (t_max2 - t_max1), 1 / beta1)"
   ]
  }
 ],
 "metadata": {
  "kernelspec": {
   "display_name": "math_labs",
   "language": "python",
   "name": "python3"
  },
  "language_info": {
   "codemirror_mode": {
    "name": "ipython",
    "version": 3
   },
   "file_extension": ".py",
   "mimetype": "text/x-python",
   "name": "python",
   "nbconvert_exporter": "python",
   "pygments_lexer": "ipython3",
   "version": "3.11.0"
  }
 },
 "nbformat": 4,
 "nbformat_minor": 2
}
