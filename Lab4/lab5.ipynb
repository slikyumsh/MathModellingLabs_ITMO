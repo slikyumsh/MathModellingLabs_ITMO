{
 "cells": [
  {
   "cell_type": "code",
   "execution_count": 16,
   "metadata": {},
   "outputs": [],
   "source": [
    "import numpy as np\n",
    "import cv2\n",
    "import matplotlib.pyplot as plt"
   ]
  },
  {
   "cell_type": "code",
   "execution_count": 17,
   "metadata": {},
   "outputs": [],
   "source": [
    "#dt = 0.005 * np.sqrt(4.86)\n",
    "#dz=0.0625 / 91. \n",
    "dz = 0.002\n",
    "dt = 0.00004\n",
    "z=1.\n",
    "t = 0.2\n",
    "Nz = z / dz\n",
    "Nt = 2 * t / dt\n",
    "c = 3. * 10** (8) # м/с"
   ]
  },
  {
   "cell_type": "code",
   "execution_count": 18,
   "metadata": {},
   "outputs": [
    {
     "name": "stdout",
     "output_type": "stream",
     "text": [
      "4.353821341267787 4.865877335533778\n"
     ]
    }
   ],
   "source": [
    "def eval_b1():\n",
    "    B1 = 0.696163\n",
    "    w1 = (2. * np.pi * c)/(0.0684043*10**(-6)) \n",
    "    w = (2. * np.pi * c)/(10**(-6))\n",
    "\n",
    "    beta1 = (B1 * w**2 * w1**2)/(c* (-w**2 + w1**2)**2 * np.sqrt(1. + (B1 * w1**2)/(-w**2 + w1**2))) + np.sqrt(1. + (B1 * w1**2)/(-w**2 + w1**2))/c\n",
    "    return beta1\n",
    "\n",
    "def eval_b2():\n",
    "    B1 = 0.696163\n",
    "    w1 = (2. * np.pi * c)/(0.0684043*10**(-6)) \n",
    "    w = (2. * np.pi * c)/(10**(-6))\n",
    "    B2 = 0.4079426\n",
    "    w2 = (2 * np.pi * c)/(0.1162414*10**(-6))\n",
    "    beta2 = (w * ((2 * B1 * w * w1**2)/(-w**2 + w1**2)**2 + (2 * B2 * w * w2 **2)/(-w**2 + w2**2)**2))/(2 * c * np.sqrt(1 + (B1 * w1**2)/(-w**2 + w1**2) + (B2 * w2**2)/(-w**2 + w2**2))) + np.sqrt(1 + (B1* w1** 2)/(-w**2 + w1**2) + (B2 * w2**2)/(-w**2 + w2**2))/c\n",
    "    return beta2\n",
    "\n",
    "beta1 = eval_b1()\n",
    "beta2 = eval_b2()\n",
    "beta1 = beta1 * 10 ** 9\n",
    "beta2 = beta2 * 10 ** 9\n",
    "print(beta1, beta2)\n"
   ]
  },
  {
   "cell_type": "code",
   "execution_count": 19,
   "metadata": {},
   "outputs": [],
   "source": [
    "T0=0.05\n",
    "def impulse1(t):\n",
    "    return  np.e ** (-1. * t ** 2 / (2. * T0 ** 2))"
   ]
  },
  {
   "cell_type": "code",
   "execution_count": 20,
   "metadata": {},
   "outputs": [],
   "source": [
    "z_array = np.arange(-z/2., z/2., dz)\n",
    "t_array = np.arange(0, t, dt)"
   ]
  },
  {
   "cell_type": "code",
   "execution_count": 21,
   "metadata": {},
   "outputs": [],
   "source": [
    "q = np.zeros((len(z_array), len(t_array)), dtype=complex)\n",
    "\n",
    "first_layer = []\n",
    "for t_i in t_array:\n",
    "    res = impulse1(t_i)\n",
    "    first_layer.append(res)\n",
    "q[0] = first_layer"
   ]
  },
  {
   "cell_type": "code",
   "execution_count": 22,
   "metadata": {},
   "outputs": [],
   "source": [
    "beta2 = 4.86\n",
    "gamma = 10."
   ]
  },
  {
   "cell_type": "code",
   "execution_count": 23,
   "metadata": {},
   "outputs": [],
   "source": [
    "q = np.zeros((len(t_array), len(z_array)), dtype=complex)\n",
    "\n",
    "first_layer = []\n",
    "for t_i in z_array:\n",
    "    res = impulse1(t_i)\n",
    "    first_layer.append(res)\n",
    "q[0] = first_layer"
   ]
  },
  {
   "cell_type": "code",
   "execution_count": 24,
   "metadata": {},
   "outputs": [],
   "source": [
    "lamda = dt / (2.* dz ** 2)\n",
    "ln = len(z_array)\n",
    "A = np.zeros((ln, ln), dtype=complex)\n",
    "for i in range(0, ln):\n",
    "    A[i][i] = lamda + 1j\n",
    "\n",
    "for i in range(0, ln):\n",
    "    A[i][((ln + i - 1)) % ln] = - lamda / 2.\n",
    "    A[i][((ln + i + 1)) % ln] = - lamda / 2.\n",
    "\n"
   ]
  },
  {
   "cell_type": "code",
   "execution_count": 25,
   "metadata": {},
   "outputs": [
    {
     "data": {
      "text/plain": [
       "5.000000000000001"
      ]
     },
     "execution_count": 25,
     "metadata": {},
     "output_type": "execute_result"
    }
   ],
   "source": [
    "lamda"
   ]
  },
  {
   "cell_type": "code",
   "execution_count": 26,
   "metadata": {},
   "outputs": [
    {
     "data": {
      "text/plain": [
       "5000"
      ]
     },
     "execution_count": 26,
     "metadata": {},
     "output_type": "execute_result"
    }
   ],
   "source": [
    "len(t_array)"
   ]
  },
  {
   "cell_type": "code",
   "execution_count": 27,
   "metadata": {},
   "outputs": [
    {
     "data": {
      "text/plain": [
       "500"
      ]
     },
     "execution_count": 27,
     "metadata": {},
     "output_type": "execute_result"
    }
   ],
   "source": [
    "len(z_array)"
   ]
  },
  {
   "cell_type": "code",
   "execution_count": 28,
   "metadata": {},
   "outputs": [
    {
     "data": {
      "text/plain": [
       "(500,)"
      ]
     },
     "execution_count": 28,
     "metadata": {},
     "output_type": "execute_result"
    }
   ],
   "source": [
    "q[0].shape"
   ]
  },
  {
   "cell_type": "code",
   "execution_count": 29,
   "metadata": {},
   "outputs": [
    {
     "name": "stdout",
     "output_type": "stream",
     "text": [
      "0\n",
      "1\n",
      "2\n",
      "3\n",
      "4\n",
      "5\n",
      "6\n",
      "7\n",
      "8\n",
      "9\n",
      "10\n",
      "11\n",
      "12\n",
      "13\n",
      "14\n",
      "15\n",
      "16\n",
      "17\n",
      "18\n",
      "19\n",
      "20\n",
      "21\n",
      "22\n",
      "23\n",
      "24\n",
      "25\n",
      "26\n",
      "27\n",
      "28\n",
      "29\n",
      "30\n",
      "31\n",
      "32\n",
      "33\n",
      "34\n",
      "35\n",
      "36\n",
      "37\n",
      "38\n",
      "39\n",
      "40\n",
      "41\n",
      "42\n",
      "43\n",
      "44\n",
      "45\n",
      "46\n",
      "47\n",
      "48\n",
      "49\n",
      "50\n",
      "51\n",
      "52\n",
      "53\n",
      "54\n",
      "55\n",
      "56\n",
      "57\n",
      "58\n",
      "59\n",
      "60\n",
      "61\n",
      "62\n",
      "63\n",
      "64\n",
      "65\n",
      "66\n",
      "67\n",
      "68\n",
      "69\n",
      "70\n",
      "71\n",
      "72\n",
      "73\n",
      "74\n",
      "75\n",
      "76\n",
      "77\n",
      "78\n",
      "79\n",
      "80\n",
      "81\n",
      "82\n",
      "83\n",
      "84\n",
      "85\n",
      "86\n",
      "87\n",
      "88\n",
      "89\n",
      "90\n",
      "91\n",
      "92\n",
      "93\n",
      "94\n",
      "95\n",
      "96\n",
      "97\n",
      "98\n",
      "99\n",
      "100\n",
      "101\n",
      "102\n",
      "103\n",
      "104\n",
      "105\n",
      "106\n",
      "107\n",
      "108\n",
      "109\n",
      "110\n",
      "111\n",
      "112\n",
      "113\n",
      "114\n",
      "115\n",
      "116\n",
      "117\n",
      "118\n",
      "119\n",
      "120\n",
      "121\n",
      "122\n",
      "123\n",
      "124\n",
      "125\n",
      "126\n",
      "127\n",
      "128\n",
      "129\n",
      "130\n",
      "131\n",
      "132\n",
      "133\n",
      "134\n",
      "135\n",
      "136\n",
      "137\n",
      "138\n",
      "139\n"
     ]
    }
   ],
   "source": [
    "inverse_matrix = np.linalg.inv(A)\n",
    "\n",
    "for i in range(0, 140):\n",
    "    F = np.zeros((len(z_array), ), dtype=complex)\n",
    "    for k in range(0, 20):\n",
    "        for j in range(0, len(z_array)):\n",
    "\n",
    "            # r = q[m+1][j]\n",
    "            if k != 0:\n",
    "                r = q[i + 1][j]\n",
    "            else :\n",
    "                r = q[i][j]\n",
    "                \n",
    "            if (j == 0):\n",
    "                F[j] = lamda/2 * (q[i][j + 1] + 0) + (1j - lamda) * q[i][j] + beta2 * 500. * dt * ((abs(r) ** 2) * r + (abs(q[i][j] ** 2) * q[i][j]))\n",
    "                                                                                    \n",
    "            if (j == len(z_array) - 1):\n",
    "                F[j] = lamda/2 * (0 + q[i][j - 1]) + (1j - lamda) * q[i][j] + beta2* 500. * dt * ((abs(r) ** 2) * r + (abs(q[i][j] ** 2) * q[i][j]))\n",
    "\n",
    "            if j > 0  and j < len(z_array) - 1:\n",
    "                F[j] = lamda/2 * (q[i][j + 1] + q[i][j - 1]) + (1j - lamda) * q[i][j] + beta2 * 500. * dt * ((abs(r) ** 2) * r + (abs(q[i][j] ** 2) * q[i][j]))\n",
    "\n",
    "        \n",
    "            new_layer = inverse_matrix @ F\n",
    "            q[i + 1] = new_layer    \n",
    "\n",
    "    print(i)"
   ]
  },
  {
   "cell_type": "code",
   "execution_count": 30,
   "metadata": {},
   "outputs": [
    {
     "name": "stderr",
     "output_type": "stream",
     "text": [
      "No artists with labels found to put in legend.  Note that artists whose label start with an underscore are ignored when legend() is called with no argument.\n"
     ]
    },
    {
     "data": {
      "image/png": "[encoded data removed]",
      "text/plain": [
       "<Figure size 640x480 with 1 Axes>"
      ]
     },
     "metadata": {},
     "output_type": "display_data"
    }
   ],
   "source": [
    "graph1 = []\n",
    "for q_i in q[0]:\n",
    "    graph1.append(abs(q_i)**2)\n",
    "\n",
    "graph2 = []\n",
    "for q_i in q[135]:\n",
    "    graph2.append(abs(q_i) ** 2)  \n",
    "\n",
    "\n",
    "plt.plot(z_array, graph1)\n",
    "plt.plot(z_array, graph2)\n",
    "\n",
    "#plt.scatter(t, impulse3)\n",
    "plt.xlabel(\"Time\")\n",
    "plt.ylabel('Impulse')\n",
    "plt.legend()\n",
    "plt.show()"
   ]
  },
  {
   "cell_type": "code",
   "execution_count": 31,
   "metadata": {},
   "outputs": [
    {
     "name": "stdout",
     "output_type": "stream",
     "text": [
      "0.20576131687242796 59.800000000000004\n"
     ]
    }
   ],
   "source": [
    "print(1/beta2, 29900 * dz)"
   ]
  }
 ],
 "metadata": {
  "kernelspec": {
   "display_name": "math_labs",
   "language": "python",
   "name": "python3"
  },
  "language_info": {
   "codemirror_mode": {
    "name": "ipython",
    "version": 3
   },
   "file_extension": ".py",
   "mimetype": "text/x-python",
   "name": "python",
   "nbconvert_exporter": "python",
   "pygments_lexer": "ipython3",
   "version": "3.11.0"
  }
 },
 "nbformat": 4,
 "nbformat_minor": 2
}
